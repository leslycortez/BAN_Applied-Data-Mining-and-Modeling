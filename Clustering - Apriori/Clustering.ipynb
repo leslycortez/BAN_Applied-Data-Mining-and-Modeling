{
 "cells": [
  {
   "cell_type": "markdown",
   "id": "9b69c3f0-0287-422a-ac8b-f41345cfb132",
   "metadata": {},
   "source": [
    "Support(A): Number if transactions in which the item A appears /Total number for transactions"
   ]
  },
  {
   "cell_type": "markdown",
   "id": "93ee6d1f-8e71-4e8e-96cb-df1bbfaa69df",
   "metadata": {},
   "source": [
    "Confidence (A => B): signifies the likelihood of the item B being purchase when item A is purchased"
   ]
  },
  {
   "cell_type": "markdown",
   "id": "9c3b6762-1a7b-40ed-b504-a4174ffa391d",
   "metadata": {},
   "source": [
    "Conf(A,B) = support(A,B) / suporrt (A)"
   ]
  },
  {
   "cell_type": "code",
   "execution_count": 18,
   "id": "3553182e-129a-4979-930b-dde3ed9f8ce3",
   "metadata": {},
   "outputs": [],
   "source": [
    "from mlxtend.preprocessing import TransactionEncoder"
   ]
  },
  {
   "cell_type": "code",
   "execution_count": 19,
   "id": "06fd1864-8d5a-4a24-ba61-80e23e6d3ad4",
   "metadata": {},
   "outputs": [],
   "source": [
    "from mlxtend.frequent_patterns import apriori, association_rules"
   ]
  },
  {
   "cell_type": "code",
   "execution_count": 20,
   "id": "d19dd21f-8223-4950-a457-887485ca21a6",
   "metadata": {},
   "outputs": [],
   "source": [
    "dataset = [['Apple', 'Beer', 'Rice', 'Chicken'], \n",
    "           ['Apple', 'Beer', 'Rice'], \n",
    "           ['Apple', 'Beer'], \n",
    "           ['Apple', 'Bananas'], \n",
    "           ['Milk', 'Beer', 'Rice', 'Chicken'], \n",
    "           ['Milk', 'Beer', 'Rice'], \n",
    "           ['Milk', 'Beer'], \n",
    "           ['Apple', 'Bananas']]"
   ]
  },
  {
   "cell_type": "code",
   "execution_count": 21,
   "id": "ffd60b04-a375-4282-879d-73ee7d6dc089",
   "metadata": {},
   "outputs": [],
   "source": [
    "te = TransactionEncoder()\n",
    "te_array = te.fit(dataset)"
   ]
  },
  {
   "cell_type": "code",
   "execution_count": 22,
   "id": "c19f623d-578f-40bc-8646-83655d9873e5",
   "metadata": {},
   "outputs": [
    {
     "data": {
      "text/plain": [
       "['Apple', 'Bananas', 'Beer', 'Chicken', 'Milk', 'Rice']"
      ]
     },
     "execution_count": 22,
     "metadata": {},
     "output_type": "execute_result"
    }
   ],
   "source": [
    "te_array.columns_"
   ]
  },
  {
   "cell_type": "code",
   "execution_count": 23,
   "id": "1be7db3c-bbb0-41be-a468-b6463eee6ac2",
   "metadata": {},
   "outputs": [],
   "source": [
    "dataset_transformed = te_array.transform(dataset)"
   ]
  },
  {
   "cell_type": "code",
   "execution_count": 24,
   "id": "11242f86-d7f4-440e-af06-15d2306816af",
   "metadata": {},
   "outputs": [
    {
     "data": {
      "text/plain": [
       "array([[ True, False,  True,  True, False,  True],\n",
       "       [ True, False,  True, False, False,  True],\n",
       "       [ True, False,  True, False, False, False],\n",
       "       [ True,  True, False, False, False, False],\n",
       "       [False, False,  True,  True,  True,  True],\n",
       "       [False, False,  True, False,  True,  True],\n",
       "       [False, False,  True, False,  True, False],\n",
       "       [ True,  True, False, False, False, False]])"
      ]
     },
     "execution_count": 24,
     "metadata": {},
     "output_type": "execute_result"
    }
   ],
   "source": [
    "dataset_transformed"
   ]
  },
  {
   "cell_type": "code",
   "execution_count": 25,
   "id": "eaf50215-a592-424a-a61c-922067a441f0",
   "metadata": {},
   "outputs": [
    {
     "data": {
      "text/plain": [
       "array([[1, 0, 1, 1, 0, 1],\n",
       "       [1, 0, 1, 0, 0, 1],\n",
       "       [1, 0, 1, 0, 0, 0],\n",
       "       [1, 1, 0, 0, 0, 0],\n",
       "       [0, 0, 1, 1, 1, 1],\n",
       "       [0, 0, 1, 0, 1, 1],\n",
       "       [0, 0, 1, 0, 1, 0],\n",
       "       [1, 1, 0, 0, 0, 0]])"
      ]
     },
     "execution_count": 25,
     "metadata": {},
     "output_type": "execute_result"
    }
   ],
   "source": [
    "dataset_transformed.astype('int')"
   ]
  },
  {
   "cell_type": "code",
   "execution_count": 27,
   "id": "11a40dbc-9f96-4b9a-845a-9b7b79f2ea4b",
   "metadata": {},
   "outputs": [],
   "source": [
    "import pandas as pd\n",
    "itemset = pd.DataFrame(dataset_transformed.astype('int'), columns=te_array.columns_)"
   ]
  },
  {
   "cell_type": "code",
   "execution_count": 28,
   "id": "67441085-08ed-444b-9733-7b21b4b0033e",
   "metadata": {},
   "outputs": [
    {
     "data": {
      "text/html": [
       "<div>\n",
       "<style scoped>\n",
       "    .dataframe tbody tr th:only-of-type {\n",
       "        vertical-align: middle;\n",
       "    }\n",
       "\n",
       "    .dataframe tbody tr th {\n",
       "        vertical-align: top;\n",
       "    }\n",
       "\n",
       "    .dataframe thead th {\n",
       "        text-align: right;\n",
       "    }\n",
       "</style>\n",
       "<table border=\"1\" class=\"dataframe\">\n",
       "  <thead>\n",
       "    <tr style=\"text-align: right;\">\n",
       "      <th></th>\n",
       "      <th>Apple</th>\n",
       "      <th>Bananas</th>\n",
       "      <th>Beer</th>\n",
       "      <th>Chicken</th>\n",
       "      <th>Milk</th>\n",
       "      <th>Rice</th>\n",
       "    </tr>\n",
       "  </thead>\n",
       "  <tbody>\n",
       "    <tr>\n",
       "      <th>0</th>\n",
       "      <td>1</td>\n",
       "      <td>0</td>\n",
       "      <td>1</td>\n",
       "      <td>1</td>\n",
       "      <td>0</td>\n",
       "      <td>1</td>\n",
       "    </tr>\n",
       "    <tr>\n",
       "      <th>1</th>\n",
       "      <td>1</td>\n",
       "      <td>0</td>\n",
       "      <td>1</td>\n",
       "      <td>0</td>\n",
       "      <td>0</td>\n",
       "      <td>1</td>\n",
       "    </tr>\n",
       "    <tr>\n",
       "      <th>2</th>\n",
       "      <td>1</td>\n",
       "      <td>0</td>\n",
       "      <td>1</td>\n",
       "      <td>0</td>\n",
       "      <td>0</td>\n",
       "      <td>0</td>\n",
       "    </tr>\n",
       "    <tr>\n",
       "      <th>3</th>\n",
       "      <td>1</td>\n",
       "      <td>1</td>\n",
       "      <td>0</td>\n",
       "      <td>0</td>\n",
       "      <td>0</td>\n",
       "      <td>0</td>\n",
       "    </tr>\n",
       "    <tr>\n",
       "      <th>4</th>\n",
       "      <td>0</td>\n",
       "      <td>0</td>\n",
       "      <td>1</td>\n",
       "      <td>1</td>\n",
       "      <td>1</td>\n",
       "      <td>1</td>\n",
       "    </tr>\n",
       "    <tr>\n",
       "      <th>5</th>\n",
       "      <td>0</td>\n",
       "      <td>0</td>\n",
       "      <td>1</td>\n",
       "      <td>0</td>\n",
       "      <td>1</td>\n",
       "      <td>1</td>\n",
       "    </tr>\n",
       "    <tr>\n",
       "      <th>6</th>\n",
       "      <td>0</td>\n",
       "      <td>0</td>\n",
       "      <td>1</td>\n",
       "      <td>0</td>\n",
       "      <td>1</td>\n",
       "      <td>0</td>\n",
       "    </tr>\n",
       "    <tr>\n",
       "      <th>7</th>\n",
       "      <td>1</td>\n",
       "      <td>1</td>\n",
       "      <td>0</td>\n",
       "      <td>0</td>\n",
       "      <td>0</td>\n",
       "      <td>0</td>\n",
       "    </tr>\n",
       "  </tbody>\n",
       "</table>\n",
       "</div>"
      ],
      "text/plain": [
       "   Apple  Bananas  Beer  Chicken  Milk  Rice\n",
       "0      1        0     1        1     0     1\n",
       "1      1        0     1        0     0     1\n",
       "2      1        0     1        0     0     0\n",
       "3      1        1     0        0     0     0\n",
       "4      0        0     1        1     1     1\n",
       "5      0        0     1        0     1     1\n",
       "6      0        0     1        0     1     0\n",
       "7      1        1     0        0     0     0"
      ]
     },
     "execution_count": 28,
     "metadata": {},
     "output_type": "execute_result"
    }
   ],
   "source": [
    "itemset"
   ]
  },
  {
   "cell_type": "code",
   "execution_count": 29,
   "id": "486aa0c5-8cc2-4b5e-aec3-dae649d748dc",
   "metadata": {},
   "outputs": [],
   "source": [
    "freq_items = apriori(itemset, min_support=0.3, use_colnames=True)"
   ]
  },
  {
   "cell_type": "code",
   "execution_count": 30,
   "id": "af3dde0a-130d-4aef-aaf1-7bc5db72f682",
   "metadata": {},
   "outputs": [
    {
     "data": {
      "text/html": [
       "<div>\n",
       "<style scoped>\n",
       "    .dataframe tbody tr th:only-of-type {\n",
       "        vertical-align: middle;\n",
       "    }\n",
       "\n",
       "    .dataframe tbody tr th {\n",
       "        vertical-align: top;\n",
       "    }\n",
       "\n",
       "    .dataframe thead th {\n",
       "        text-align: right;\n",
       "    }\n",
       "</style>\n",
       "<table border=\"1\" class=\"dataframe\">\n",
       "  <thead>\n",
       "    <tr style=\"text-align: right;\">\n",
       "      <th></th>\n",
       "      <th>support</th>\n",
       "      <th>itemsets</th>\n",
       "    </tr>\n",
       "  </thead>\n",
       "  <tbody>\n",
       "    <tr>\n",
       "      <th>0</th>\n",
       "      <td>0.625</td>\n",
       "      <td>(Apple)</td>\n",
       "    </tr>\n",
       "    <tr>\n",
       "      <th>1</th>\n",
       "      <td>0.750</td>\n",
       "      <td>(Beer)</td>\n",
       "    </tr>\n",
       "    <tr>\n",
       "      <th>2</th>\n",
       "      <td>0.375</td>\n",
       "      <td>(Milk)</td>\n",
       "    </tr>\n",
       "    <tr>\n",
       "      <th>3</th>\n",
       "      <td>0.500</td>\n",
       "      <td>(Rice)</td>\n",
       "    </tr>\n",
       "    <tr>\n",
       "      <th>4</th>\n",
       "      <td>0.375</td>\n",
       "      <td>(Apple, Beer)</td>\n",
       "    </tr>\n",
       "    <tr>\n",
       "      <th>5</th>\n",
       "      <td>0.375</td>\n",
       "      <td>(Milk, Beer)</td>\n",
       "    </tr>\n",
       "    <tr>\n",
       "      <th>6</th>\n",
       "      <td>0.500</td>\n",
       "      <td>(Rice, Beer)</td>\n",
       "    </tr>\n",
       "  </tbody>\n",
       "</table>\n",
       "</div>"
      ],
      "text/plain": [
       "   support       itemsets\n",
       "0    0.625        (Apple)\n",
       "1    0.750         (Beer)\n",
       "2    0.375         (Milk)\n",
       "3    0.500         (Rice)\n",
       "4    0.375  (Apple, Beer)\n",
       "5    0.375   (Milk, Beer)\n",
       "6    0.500   (Rice, Beer)"
      ]
     },
     "execution_count": 30,
     "metadata": {},
     "output_type": "execute_result"
    }
   ],
   "source": [
    "freq_items"
   ]
  },
  {
   "cell_type": "code",
   "execution_count": 31,
   "id": "c4677ef2-a476-4df2-9720-50005ca09c03",
   "metadata": {},
   "outputs": [
    {
     "data": {
      "text/html": [
       "<div>\n",
       "<style scoped>\n",
       "    .dataframe tbody tr th:only-of-type {\n",
       "        vertical-align: middle;\n",
       "    }\n",
       "\n",
       "    .dataframe tbody tr th {\n",
       "        vertical-align: top;\n",
       "    }\n",
       "\n",
       "    .dataframe thead th {\n",
       "        text-align: right;\n",
       "    }\n",
       "</style>\n",
       "<table border=\"1\" class=\"dataframe\">\n",
       "  <thead>\n",
       "    <tr style=\"text-align: right;\">\n",
       "      <th></th>\n",
       "      <th>support</th>\n",
       "      <th>itemsets</th>\n",
       "    </tr>\n",
       "  </thead>\n",
       "  <tbody>\n",
       "    <tr>\n",
       "      <th>2</th>\n",
       "      <td>0.375</td>\n",
       "      <td>(Milk)</td>\n",
       "    </tr>\n",
       "    <tr>\n",
       "      <th>4</th>\n",
       "      <td>0.375</td>\n",
       "      <td>(Apple, Beer)</td>\n",
       "    </tr>\n",
       "    <tr>\n",
       "      <th>5</th>\n",
       "      <td>0.375</td>\n",
       "      <td>(Milk, Beer)</td>\n",
       "    </tr>\n",
       "    <tr>\n",
       "      <th>3</th>\n",
       "      <td>0.500</td>\n",
       "      <td>(Rice)</td>\n",
       "    </tr>\n",
       "    <tr>\n",
       "      <th>6</th>\n",
       "      <td>0.500</td>\n",
       "      <td>(Rice, Beer)</td>\n",
       "    </tr>\n",
       "    <tr>\n",
       "      <th>0</th>\n",
       "      <td>0.625</td>\n",
       "      <td>(Apple)</td>\n",
       "    </tr>\n",
       "    <tr>\n",
       "      <th>1</th>\n",
       "      <td>0.750</td>\n",
       "      <td>(Beer)</td>\n",
       "    </tr>\n",
       "  </tbody>\n",
       "</table>\n",
       "</div>"
      ],
      "text/plain": [
       "   support       itemsets\n",
       "2    0.375         (Milk)\n",
       "4    0.375  (Apple, Beer)\n",
       "5    0.375   (Milk, Beer)\n",
       "3    0.500         (Rice)\n",
       "6    0.500   (Rice, Beer)\n",
       "0    0.625        (Apple)\n",
       "1    0.750         (Beer)"
      ]
     },
     "execution_count": 31,
     "metadata": {},
     "output_type": "execute_result"
    }
   ],
   "source": [
    "freq_items.sort_values(by='support')"
   ]
  },
  {
   "cell_type": "code",
   "execution_count": 34,
   "id": "2269e751-ec0a-4960-828d-de57a0d3d813",
   "metadata": {},
   "outputs": [],
   "source": [
    "rules = association_rules(freq_items, metric='confidence', min_threshold=1)"
   ]
  },
  {
   "cell_type": "code",
   "execution_count": 35,
   "id": "842b232c-7c01-444d-9b72-70755a48ad46",
   "metadata": {},
   "outputs": [
    {
     "data": {
      "text/html": [
       "<div>\n",
       "<style scoped>\n",
       "    .dataframe tbody tr th:only-of-type {\n",
       "        vertical-align: middle;\n",
       "    }\n",
       "\n",
       "    .dataframe tbody tr th {\n",
       "        vertical-align: top;\n",
       "    }\n",
       "\n",
       "    .dataframe thead th {\n",
       "        text-align: right;\n",
       "    }\n",
       "</style>\n",
       "<table border=\"1\" class=\"dataframe\">\n",
       "  <thead>\n",
       "    <tr style=\"text-align: right;\">\n",
       "      <th></th>\n",
       "      <th>antecedents</th>\n",
       "      <th>consequents</th>\n",
       "      <th>antecedent support</th>\n",
       "      <th>consequent support</th>\n",
       "      <th>support</th>\n",
       "      <th>confidence</th>\n",
       "      <th>lift</th>\n",
       "      <th>leverage</th>\n",
       "      <th>conviction</th>\n",
       "    </tr>\n",
       "  </thead>\n",
       "  <tbody>\n",
       "    <tr>\n",
       "      <th>0</th>\n",
       "      <td>(Milk)</td>\n",
       "      <td>(Beer)</td>\n",
       "      <td>0.375</td>\n",
       "      <td>0.75</td>\n",
       "      <td>0.375</td>\n",
       "      <td>1.0</td>\n",
       "      <td>1.333333</td>\n",
       "      <td>0.09375</td>\n",
       "      <td>inf</td>\n",
       "    </tr>\n",
       "    <tr>\n",
       "      <th>1</th>\n",
       "      <td>(Rice)</td>\n",
       "      <td>(Beer)</td>\n",
       "      <td>0.500</td>\n",
       "      <td>0.75</td>\n",
       "      <td>0.500</td>\n",
       "      <td>1.0</td>\n",
       "      <td>1.333333</td>\n",
       "      <td>0.12500</td>\n",
       "      <td>inf</td>\n",
       "    </tr>\n",
       "  </tbody>\n",
       "</table>\n",
       "</div>"
      ],
      "text/plain": [
       "  antecedents consequents  antecedent support  consequent support  support  \\\n",
       "0      (Milk)      (Beer)               0.375                0.75    0.375   \n",
       "1      (Rice)      (Beer)               0.500                0.75    0.500   \n",
       "\n",
       "   confidence      lift  leverage  conviction  \n",
       "0         1.0  1.333333   0.09375         inf  \n",
       "1         1.0  1.333333   0.12500         inf  "
      ]
     },
     "execution_count": 35,
     "metadata": {},
     "output_type": "execute_result"
    }
   ],
   "source": [
    "rules"
   ]
  },
  {
   "cell_type": "code",
   "execution_count": null,
   "id": "e336e07f-3509-4754-b029-db0909f5abe1",
   "metadata": {},
   "outputs": [],
   "source": []
  }
 ],
 "metadata": {
  "kernelspec": {
   "display_name": "Python 3",
   "language": "python",
   "name": "python3"
  },
  "language_info": {
   "codemirror_mode": {
    "name": "ipython",
    "version": 3
   },
   "file_extension": ".py",
   "mimetype": "text/x-python",
   "name": "python",
   "nbconvert_exporter": "python",
   "pygments_lexer": "ipython3",
   "version": "3.8.8"
  }
 },
 "nbformat": 4,
 "nbformat_minor": 5
}
